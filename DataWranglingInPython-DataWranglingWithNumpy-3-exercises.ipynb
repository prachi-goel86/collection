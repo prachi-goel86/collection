{
 "cells": [
  {
   "cell_type": "markdown",
   "id": "a4f62d30",
   "metadata": {},
   "source": [
    "## DATAWRANGLINGINPYTHON/DATAWRANGLINGWITHNUMPY/DATAWRANGLINGINPYTHON DATAWRANGLINGWITHNUMPY 3 EXERCISE  ##\n",
    "#### Please refer to module 1 of DataWranglingInPython - DataWranglingWithNumpy for Tasks 1-6 \n",
    "#### Task 1\n",
    "##### Create an array of 25 numbers between 1 and 100 (including 100) and save to `arr1` variable.\n",
    "##### Print the type and data type of `arr1`.\n",
    "#### Result:\n"
   ]
  },
  {
   "cell_type": "code",
   "execution_count": null,
   "id": "cfb80b1b",
   "metadata": {},
   "outputs": [],
   "source": []
  },
  {
   "cell_type": "markdown",
   "id": "c69a2671",
   "metadata": {},
   "source": [
    "#### Task 2\n",
    "##### Create an array of 20 numbers from 50 to 70 (excluding 70).\n",
    "##### Use the `arange` function and assign the output to `arr2` variable.\n",
    "#### Result:\n"
   ]
  },
  {
   "cell_type": "code",
   "execution_count": null,
   "id": "29d8db45",
   "metadata": {},
   "outputs": [],
   "source": []
  },
  {
   "cell_type": "markdown",
   "id": "98680233",
   "metadata": {},
   "source": [
    "#### Please refer to module 2 of DataWranglingInPython - DataWranglingWithNumpy for Tasks 3-6 \n",
    "#### Task 3\n",
    "##### Create an array of 10 numbers between 0 and 20 (including 20) and assign to `arr3` variable.\n",
    "##### Use `linspace` function.\n",
    "##### Find the max, min, their indices, sum and mean of the array.\n",
    "#### Result:\n"
   ]
  },
  {
   "cell_type": "code",
   "execution_count": null,
   "id": "a154bcf8",
   "metadata": {},
   "outputs": [],
   "source": []
  },
  {
   "cell_type": "markdown",
   "id": "1f94a755",
   "metadata": {},
   "source": [
    "#### Task 4\n",
    "##### Create two arrays of size 4 with the numbers 4, 5, 6, 4 in `array1` and 7, 2, 12, 16 in `array2`.\n",
    "##### Find the `sum`,  `product`, `difference`, and `quotient` of `array1` and `array2`. Save the results as `array_sum`, `product`, `difference`, and `quotient` variables, respectively.\n",
    "##### Perform the set operations `union` and `intersect` on the arrays.\n",
    "##### Stack the arrays vertically and horizontally.\n",
    "##### Print the results.\n",
    "#### Result:\n"
   ]
  },
  {
   "cell_type": "code",
   "execution_count": null,
   "id": "79206b0e",
   "metadata": {},
   "outputs": [],
   "source": []
  },
  {
   "cell_type": "markdown",
   "id": "faa9b499",
   "metadata": {},
   "source": [
    "#### Task 5\n",
    "##### Compute the absolute value of each entry in the following array: `[5, -8, -66, 4]`.\n",
    "##### Assign the operation to `abs_values` variable. Print the result.\n",
    "##### Print the length of the `abs_values` array.\n",
    "##### Print the 3rd element of `abs_values`.\n",
    "#### Result:\n"
   ]
  },
  {
   "cell_type": "code",
   "execution_count": null,
   "id": "452852d7",
   "metadata": {},
   "outputs": [],
   "source": []
  },
  {
   "cell_type": "markdown",
   "id": "d0f4e6a8",
   "metadata": {},
   "source": [
    "#### Task 6\n",
    "##### Print all numbers greater than 25 in `abs_values` array.\n",
    "#### Result:\n"
   ]
  },
  {
   "cell_type": "code",
   "execution_count": null,
   "id": "37f04dd4",
   "metadata": {},
   "outputs": [],
   "source": []
  },
  {
   "cell_type": "markdown",
   "id": "56781cb2",
   "metadata": {},
   "source": [
    "#### Please refer to module 3 of DataWranglingInPython - DataWranglingWithNumpy for Tasks 7-8\n",
    "#### Task 7\n",
    "##### Create the following matrix with 3 rows and assign to variable `mat1`:\n",
    "- [4, 5, 6]\n",
    "- [8, 3, 2]\n",
    "- [6, 7, 3]\n",
    "##### Find the shape of the matrix.\n",
    "#### Result:\n"
   ]
  },
  {
   "cell_type": "code",
   "execution_count": null,
   "id": "3c18b783",
   "metadata": {},
   "outputs": [],
   "source": []
  },
  {
   "cell_type": "markdown",
   "id": "6088b48d",
   "metadata": {},
   "source": [
    "#### Task 8\n",
    "##### Find the value in the 2nd row and 3rd column of `mat1`.\n",
    "##### Print the 2nd and 3rd rows.\n",
    "##### Print the 1st column and rows up to the 2nd row.\n",
    "##### Print all columns starting with column 2.\n",
    "#### Result:\n"
   ]
  },
  {
   "cell_type": "code",
   "execution_count": null,
   "id": "517b6015",
   "metadata": {},
   "outputs": [],
   "source": []
  },
  {
   "cell_type": "markdown",
   "id": "068a4bdf",
   "metadata": {},
   "source": [
    "#### Bonus Task 1\n",
    "##### Filter and print the elements greater than 5 in `mat1`.\n",
    "##### Use a Boolean mask to filter all elements <= 5 and set them to 0.\n",
    "##### Print the resulting matrix.\n",
    "#### Result:\n"
   ]
  },
  {
   "cell_type": "code",
   "execution_count": null,
   "id": "e73b443f",
   "metadata": {},
   "outputs": [],
   "source": []
  },
  {
   "cell_type": "markdown",
   "id": "19ea5f25",
   "metadata": {},
   "source": [
    "#### Bonus Task 2\n",
    "##### Use the `linspace` function to create a NumPy array of 16 numbers between 10 and 25 (inclusive) called `arr4`.\n",
    "##### Reshape the array to a matrix of shape (4,4) and print it.\n",
    "##### Reshape the array to a matrix with 8 rows and let Python infer the number of columns.\n",
    "#### Result:\n"
   ]
  },
  {
   "cell_type": "code",
   "execution_count": null,
   "id": "0727f0f3",
   "metadata": {},
   "outputs": [],
   "source": []
  }
 ],
 "metadata": {
  "language": "python"
 },
 "nbformat": 4,
 "nbformat_minor": 5
}
