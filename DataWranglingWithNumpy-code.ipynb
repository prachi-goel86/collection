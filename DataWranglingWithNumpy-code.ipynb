{
 "cells": [
  {
   "cell_type": "code",
   "execution_count": null,
   "id": "9730a5a2",
   "metadata": {},
   "outputs": [],
   "source": [
    "#######################################################\n",
    "#######################################################\n",
    "############    COPYRIGHT - DATA SOCIETY   ############\n",
    "#######################################################\n",
    "#######################################################\n",
    "\n",
    "## DATAWRANGLINGINPYTHON/DATAWRANGLINGWITHNUMPY/DATAWRANGLINGINPYTHON DATAWRANGLINGWITHNUMPY 1 ##\n",
    "\n",
    "## NOTE: To run individual pieces of code, select the line of code and\n",
    "##       press ctrl + enter for PCs or command + enter for Macs\n",
    "\n",
    "\n"
   ]
  },
  {
   "cell_type": "code",
   "execution_count": null,
   "id": "307859be",
   "metadata": {},
   "outputs": [],
   "source": [
    "#=================================================-\n",
    "#### Slide 7: Creating arrays  ####\n",
    "\n",
    "# Import numpy as 'np' sets 'np' as the shortcut/alias.\n",
    "import numpy as np\n",
    "\n",
    "# Create an array from a list. \n",
    "arr = np.array([17, -10, 16.8, 11])\n",
    "print(arr)\n",
    "\n",
    "# Check the type of the object.\n",
    "print(type(arr))\n",
    "\n",
    "\n"
   ]
  },
  {
   "cell_type": "code",
   "execution_count": null,
   "id": "3b019f13",
   "metadata": {},
   "outputs": [],
   "source": [
    "#=================================================-\n",
    "#### Slide 8: Data type in arrays  ####\n",
    "\n",
    "# Check the data type stored in the array.\n",
    "print(arr.dtype)\n",
    "\n",
    "\n"
   ]
  },
  {
   "cell_type": "code",
   "execution_count": null,
   "id": "86e6be4b",
   "metadata": {},
   "outputs": [],
   "source": [
    "#=================================================-\n",
    "#### Slide 9: Using ndarray  ####\n",
    "\n",
    "x = np.array([3, 19, 7, 11])\n",
    "print(x)\n",
    "\n",
    "\n"
   ]
  },
  {
   "cell_type": "code",
   "execution_count": null,
   "id": "b90dd6af",
   "metadata": {},
   "outputs": [],
   "source": [
    "#=================================================-\n",
    "#### Slide 11: Building an array with linspace  ####\n",
    "\n",
    "y = np.linspace(-2, -1, 25)\n",
    "print(y)\n",
    "\n",
    "\n"
   ]
  },
  {
   "cell_type": "code",
   "execution_count": null,
   "id": "ba1fb581",
   "metadata": {},
   "outputs": [],
   "source": [
    "#=================================================-\n",
    "#### Slide 12: Alternative ways of accessing functions  ####\n",
    "\n",
    "from numpy import array, linspace\n",
    "x = array([0.01, 0.45, -0.3])\n",
    "y = linspace(0, 1, 50)\n",
    "\n",
    "\n"
   ]
  },
  {
   "cell_type": "code",
   "execution_count": null,
   "id": "b03974e8",
   "metadata": {},
   "outputs": [],
   "source": [
    "#=================================================-\n",
    "#### Slide 16: Arrays vs. lists  ####\n",
    "\n",
    "mixed_array = np.array([1, 2, \"apple\", \"XYZ\", 5.5])\n",
    "print(mixed_array)\n",
    "\n",
    "\n"
   ]
  },
  {
   "cell_type": "code",
   "execution_count": null,
   "id": "6a64c555",
   "metadata": {},
   "outputs": [],
   "source": [
    "#=================================================-\n",
    "#### Slide 17: Arrays vs lists (cont'd)  ####\n",
    "\n",
    "print(mixed_array.dtype)\n",
    "mixed_array = np.array([3, 12, 5.56])\n",
    "print(mixed_array)\n",
    "print(mixed_array.dtype)\n",
    "\n",
    "\n"
   ]
  },
  {
   "cell_type": "code",
   "execution_count": null,
   "id": "2620aacc",
   "metadata": {},
   "outputs": [],
   "source": [
    "#=================================================-\n",
    "#### Slide 19: Arrays from sequences (cont'd)  ####\n",
    "\n",
    "rng = np.arange(0, 51)\n",
    "print(rng)\n",
    "\n",
    "\n"
   ]
  },
  {
   "cell_type": "code",
   "execution_count": null,
   "id": "9f63209c",
   "metadata": {},
   "outputs": [],
   "source": [
    "#=================================================-\n",
    "#### Slide 20: Arrays from sequences - using a step size  ####\n",
    "\n",
    "evens = np.arange(0, 23, 2)\n",
    "print(evens)\n",
    "\n",
    "quarters = np.arange(0, 1, .25)  #<- contains 0 to 0.75\n",
    "print(quarters)\n",
    "\n",
    "\n",
    "#######################################################\n",
    "####  CONGRATULATIONS ON COMPLETING THIS MODULE!   ####\n",
    "#######################################################\n"
   ]
  },
  {
   "cell_type": "code",
   "execution_count": null,
   "id": "5de037a3",
   "metadata": {},
   "outputs": [],
   "source": [
    "#######################################################\n",
    "#######################################################\n",
    "############    COPYRIGHT - DATA SOCIETY   ############\n",
    "#######################################################\n",
    "#######################################################\n",
    "\n",
    "## DATAWRANGLINGINPYTHON/DATAWRANGLINGWITHNUMPY/DATAWRANGLINGINPYTHON DATAWRANGLINGWITHNUMPY 2 ##\n",
    "\n",
    "## NOTE: To run individual pieces of code, select the line of code and\n",
    "##       press ctrl + enter for PCs or command + enter for Macs\n",
    "\n",
    "\n"
   ]
  },
  {
   "cell_type": "code",
   "execution_count": null,
   "id": "179605dc",
   "metadata": {},
   "outputs": [],
   "source": [
    "#=================================================-\n",
    "#### Slide 2: Helper functions: min and max  ####\n",
    "\n",
    "import numpy as np\n",
    "\n",
    "# Generate 5 numbers between 15 and 19.\n",
    "x = np.linspace(15, 19, 5)\n",
    "\n",
    "# Find the min of x.\n",
    "np.amin(x)\n",
    "# Find the max of x.\n",
    "np.amax(x)\n",
    "\n",
    "\n"
   ]
  },
  {
   "cell_type": "code",
   "execution_count": null,
   "id": "f9b332e2",
   "metadata": {},
   "outputs": [],
   "source": [
    "#=================================================-\n",
    "#### Slide 3: Helper functions: argmin and argmax  ####\n",
    "\n",
    "# Obtain index of max value\n",
    "np.argmax(x)\n",
    "# Obtain index of min value\n",
    "np.argmin(x)\n",
    "\n",
    "\n"
   ]
  },
  {
   "cell_type": "code",
   "execution_count": null,
   "id": "8bf6e4c3",
   "metadata": {},
   "outputs": [],
   "source": [
    "#=================================================-\n",
    "#### Slide 4: Helper functions: sum  ####\n",
    "\n",
    "# Find the max of x.\n",
    "np.sum(x)\n",
    "\n",
    "\n"
   ]
  },
  {
   "cell_type": "code",
   "execution_count": null,
   "id": "16b2b9e4",
   "metadata": {},
   "outputs": [],
   "source": [
    "#=================================================-\n",
    "#### Slide 5: Helper functions: mean and median  ####\n",
    "\n",
    "# Find the mean of x.\n",
    "np.mean(x)\n",
    "# Find the median of x.\n",
    "np.median(x)\n",
    "\n",
    "\n"
   ]
  },
  {
   "cell_type": "code",
   "execution_count": null,
   "id": "20a63fe1",
   "metadata": {},
   "outputs": [],
   "source": [
    "#=================================================-\n",
    "#### Slide 6: Helper functions: digitize  ####\n",
    "\n",
    "# Filter array using digitize\n",
    "bins = np.array([15, 17])\n",
    "np.digitize(x,bins)\n",
    "\n",
    "\n",
    "\n"
   ]
  },
  {
   "cell_type": "code",
   "execution_count": null,
   "id": "f32a2808",
   "metadata": {},
   "outputs": [],
   "source": [
    "#=================================================-\n",
    "#### Slide 7: Helper functions: expand and squeeze  ####\n",
    "\n",
    "# Expand dimensions of the array horizontally\n",
    "np.expand_dims(x,axis=0)\n",
    "\n",
    "# Expand dimensions of the array vertically\n",
    "np.expand_dims(x,axis=1)\n",
    "\n",
    "\n",
    "\n"
   ]
  },
  {
   "cell_type": "code",
   "execution_count": null,
   "id": "8113ac3f",
   "metadata": {},
   "outputs": [],
   "source": [
    "#=================================================-\n",
    "#### Slide 8: Helper functions: expand and squeeze (cont'd)  ####\n",
    "\n",
    "# Define an array in the format of lists\n",
    "y = np.array([[10],[25],[28],[30]])\n",
    "# Reduce dimensions of the array\n",
    "np.squeeze(y)\n",
    "\n",
    "\n"
   ]
  },
  {
   "cell_type": "code",
   "execution_count": null,
   "id": "daf4e5ed",
   "metadata": {},
   "outputs": [],
   "source": [
    "#=================================================-\n",
    "#### Slide 9: Convert an array to a list  ####\n",
    "\n",
    "evens = np.arange(0, 23, 2)\n",
    "print(list(evens))\n",
    "\n",
    "\n"
   ]
  },
  {
   "cell_type": "code",
   "execution_count": null,
   "id": "dd8c5036",
   "metadata": {},
   "outputs": [],
   "source": [
    "#=================================================-\n",
    "#### Slide 10: Operations on arrays  ####\n",
    "\n",
    "# Save two arrays as variables.\n",
    "a = np.array([1,1,1,1])\n",
    "b = np.array([2,2,2,2])\n",
    "\n",
    "# Addition of arrays.\n",
    "print(a + b)\n",
    "\n",
    "# Subtraction of arrays.\n",
    "print(a - b)\n",
    "# Multiplication of arrays.\n",
    "print(a * b)\n",
    "# Division of arrays.\n",
    "print(a / b)\n",
    "\n",
    "\n"
   ]
  },
  {
   "cell_type": "code",
   "execution_count": null,
   "id": "8d924f56",
   "metadata": {},
   "outputs": [],
   "source": [
    "#=================================================-\n",
    "#### Slide 12: Set operations  ####\n",
    "\n",
    "# Retrieving common elements present in the arrays.\n",
    "np.intersect1d(a, b, return_indices=True)\n",
    "\n",
    "# Retrieving elements present in both the arrays.\n",
    "np.union1d(a, b)\n",
    "# Retrives the elements that are present only in the first array.\n",
    "np.setdiff1d(a, b)\n",
    "\n",
    "\n"
   ]
  },
  {
   "cell_type": "code",
   "execution_count": null,
   "id": "c0747f00",
   "metadata": {},
   "outputs": [],
   "source": [
    "#=================================================-\n",
    "#### Slide 13: Stacking arrays  ####\n",
    "\n",
    "# Stacking arrays horizontally.\n",
    "np.hstack((a,b))\n",
    "\n",
    "# Stacking arrays vertically.\n",
    "np.vstack((a,b))\n",
    "\n",
    "\n"
   ]
  },
  {
   "cell_type": "code",
   "execution_count": null,
   "id": "1c8acde1",
   "metadata": {},
   "outputs": [],
   "source": [
    "#=================================================-\n",
    "#### Slide 15: Mathematical functions on arrays  ####\n",
    "\n",
    "print(np.abs(-3))\n",
    "print(np.abs([-2, -7, 1]))\n",
    "nums = np.arange(20, 30, .5)\n",
    "print(len(nums))\n",
    "\n",
    "\n"
   ]
  },
  {
   "cell_type": "code",
   "execution_count": null,
   "id": "21617986",
   "metadata": {},
   "outputs": [],
   "source": [
    "#=================================================-\n",
    "#### Slide 16: User-defined functions on arrays  ####\n",
    "\n",
    "# Define a function to multiply every element in array with 3 and add 1\n",
    "def some_calculation(arr):\n",
    "    return 3*arr+1\n",
    "    \n",
    "print(some_calculation(nums))\n",
    "\n",
    "\n",
    "#######################################################\n",
    "####  CONGRATULATIONS ON COMPLETING THIS MODULE!   ####\n",
    "#######################################################\n"
   ]
  },
  {
   "cell_type": "code",
   "execution_count": null,
   "id": "7dac9d10",
   "metadata": {},
   "outputs": [],
   "source": [
    "#######################################################\n",
    "#######################################################\n",
    "############    COPYRIGHT - DATA SOCIETY   ############\n",
    "#######################################################\n",
    "#######################################################\n",
    "\n",
    "## DATAWRANGLINGINPYTHON/DATAWRANGLINGWITHNUMPY/DATAWRANGLINGINPYTHON DATAWRANGLINGWITHNUMPY 3 ##\n",
    "\n",
    "## NOTE: To run individual pieces of code, select the line of code and\n",
    "##       press ctrl + enter for PCs or command + enter for Macs\n",
    "\n",
    "\n"
   ]
  },
  {
   "cell_type": "code",
   "execution_count": null,
   "id": "a7428c32",
   "metadata": {},
   "outputs": [],
   "source": [
    "#=================================================-\n",
    "#### Slide 2: Recap: arrays  ####\n",
    "\n",
    "# Import numpy as 'np' sets 'np' as the shortcut/alias.\n",
    "import numpy as np\n",
    "\n",
    "\n"
   ]
  },
  {
   "cell_type": "code",
   "execution_count": null,
   "id": "34fffae5",
   "metadata": {},
   "outputs": [],
   "source": [
    "#=================================================-\n",
    "#### Slide 3: Accessing array values  ####\n",
    "\n",
    "nums = np.arange(20, 30, .5)\n",
    "\n",
    "print(nums[1])  #<- get the second element\n",
    "\n",
    "print(nums[0:3]) #<- get the first three elements\n",
    "\n",
    "\n"
   ]
  },
  {
   "cell_type": "code",
   "execution_count": null,
   "id": "71b7b982",
   "metadata": {},
   "outputs": [],
   "source": [
    "#=================================================-\n",
    "#### Slide 4: Logical filtering  ####\n",
    "\n",
    "print(nums)\n",
    "\n",
    "large_nums = nums[nums > 26]\n",
    "print(large_nums)\n",
    "\n",
    "\n"
   ]
  },
  {
   "cell_type": "code",
   "execution_count": null,
   "id": "439fb243",
   "metadata": {},
   "outputs": [],
   "source": [
    "#=================================================-\n",
    "#### Slide 5: Logical filtering (cont'd)  ####\n",
    "\n",
    "print(nums)\n",
    "\n",
    "large_nums = nums[nums > 26]\n",
    "print(large_nums)\n",
    "\n",
    "\n"
   ]
  },
  {
   "cell_type": "code",
   "execution_count": null,
   "id": "b97b54a3",
   "metadata": {},
   "outputs": [],
   "source": [
    "#=================================================-\n",
    "#### Slide 6: Two-dimensional arrays  ####\n",
    "\n",
    "mat = np.array([\n",
    "        [8, 2, 6, 8],\n",
    "        [4, 5, 7, 2],\n",
    "        [3, 9, 7, 1]\n",
    "       ])\n",
    "print(mat)\n",
    "\n",
    "\n"
   ]
  },
  {
   "cell_type": "code",
   "execution_count": null,
   "id": "dcc95418",
   "metadata": {},
   "outputs": [],
   "source": [
    "#=================================================-\n",
    "#### Slide 8: Two-dimensional arrays - shape (cont'd)  ####\n",
    "\n",
    "print(mat.shape) #<- 3 rows and 4 columns -- returned as a tuple\n",
    "nrows, ncols = mat.shape\n",
    "print(nrows)\n",
    "\n",
    "\n"
   ]
  },
  {
   "cell_type": "code",
   "execution_count": null,
   "id": "bb25d869",
   "metadata": {},
   "outputs": [],
   "source": [
    "#=================================================-\n",
    "#### Slide 9: Two-dimensional arrays - extracting elements  ####\n",
    "\n",
    "print(mat[1, 3]) #<- 2nd row 4th column - remember that indexing starts at 0!\n",
    "\n",
    "\n"
   ]
  },
  {
   "cell_type": "code",
   "execution_count": null,
   "id": "54927e71",
   "metadata": {},
   "outputs": [],
   "source": [
    "#=================================================-\n",
    "#### Slide 10: Two-dimensional arrays - rows  ####\n",
    "\n",
    "print(mat[0, :]) #<- first row\n",
    "print(mat[0, 0:2]) #<- first row and just first 2 columns\n",
    "\n",
    "\n"
   ]
  },
  {
   "cell_type": "code",
   "execution_count": null,
   "id": "875dcfab",
   "metadata": {},
   "outputs": [],
   "source": [
    "#=================================================-\n",
    "#### Slide 11: Two-dimensional arrays - columns  ####\n",
    "\n",
    "print(mat[:, 2]) #<- 3rd column\n",
    "print(mat[1:3, 2]) #<- 3rd column but skipping over the first row\n",
    "print(mat[1:3, 2:3]) #<- same as previous, but maintains the vertical structure of the column\n",
    "\n",
    "\n"
   ]
  },
  {
   "cell_type": "code",
   "execution_count": null,
   "id": "2afc24b2",
   "metadata": {},
   "outputs": [],
   "source": [
    "#=================================================-\n",
    "#### Slide 13: Reshaping arrays  ####\n",
    "\n",
    "arr = np.arange(1,13)\n",
    "print(arr)\n",
    "print(arr.reshape(3, 4))\n",
    "\n",
    "\n"
   ]
  },
  {
   "cell_type": "code",
   "execution_count": null,
   "id": "eb6cf7e8",
   "metadata": {},
   "outputs": [],
   "source": [
    "#=================================================-\n",
    "#### Slide 15: Reshaping arrays (cont'd)  ####\n",
    "\n",
    "print(arr.reshape(2,      #<- specify number of rows=2\n",
    "                  2))     #<- number of columns=2 throws error\n",
    "\n",
    "\n"
   ]
  },
  {
   "cell_type": "code",
   "execution_count": null,
   "id": "ecc1d178",
   "metadata": {},
   "outputs": [],
   "source": [
    "#=================================================-\n",
    "#### Slide 17: Exercise   ####\n",
    "\n",
    "\n",
    "\n",
    "\n",
    "#######################################################\n",
    "####  CONGRATULATIONS ON COMPLETING THIS MODULE!   ####\n",
    "#######################################################\n"
   ]
  }
 ],
 "metadata": {
  "language": "python"
 },
 "nbformat": 4,
 "nbformat_minor": 5
}
